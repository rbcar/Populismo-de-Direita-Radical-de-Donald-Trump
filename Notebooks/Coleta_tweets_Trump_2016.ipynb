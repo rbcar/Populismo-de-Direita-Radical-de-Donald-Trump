{
 "cells": [
  {
   "cell_type": "code",
   "execution_count": 18,
   "id": "3bf3a8e2-f699-441b-8bc6-769fb2a461e8",
   "metadata": {},
   "outputs": [],
   "source": [
    "#Coleta \n",
    "import pandas as pd\n",
    "import requests\n",
    "from io import StringIO"
   ]
  },
  {
   "cell_type": "code",
   "execution_count": 19,
   "id": "98b14f2c-d8ca-4d07-a052-e230b01c4cb6",
   "metadata": {},
   "outputs": [],
   "source": [
    "# URL do Banco de Dados do pesquisador Mark Hershey \n",
    "url = \"https://raw.githubusercontent.com/MarkHershey/CompleteTrumpTweetsArchive/master/data/realDonaldTrump_bf_office.csv\""
   ]
  },
  {
   "cell_type": "code",
   "execution_count": 51,
   "id": "b2f86218-37fc-415e-9c27-49753985804a",
   "metadata": {},
   "outputs": [],
   "source": [
    "#Baixar o conteúdo como arquivo CSV\n",
    "response = requests.get(url)\n",
    "csv_content = response.text"
   ]
  },
  {
   "cell_type": "code",
   "execution_count": 52,
   "id": "ea63617d-b001-4be7-aeb6-653967d51b15",
   "metadata": {},
   "outputs": [],
   "source": [
    "#Ler o conteúdo CSV com StringIO e tratar as aspas duplas nos tweets\n",
    "df = pd.read_csv(StringIO(csv_content), quotechar='\"', skipinitialspace=True)"
   ]
  },
  {
   "cell_type": "code",
   "execution_count": 53,
   "id": "18e1756c-0818-45f7-9906-72b90b587f5d",
   "metadata": {},
   "outputs": [],
   "source": [
    "df['Time'] = pd.to_datetime(df['Time'])"
   ]
  },
  {
   "cell_type": "code",
   "execution_count": 54,
   "id": "f6212776-9628-4365-8607-4174f4585b78",
   "metadata": {},
   "outputs": [
    {
     "name": "stdout",
     "output_type": "stream",
     "text": [
      "                 ID                Time  \\\n",
      "0  @realDonaldTrump 2009-05-04 13:54:00   \n",
      "1  @realDonaldTrump 2009-05-04 20:00:00   \n",
      "2  @realDonaldTrump 2009-05-08 08:38:00   \n",
      "3  @realDonaldTrump 2009-05-08 15:40:00   \n",
      "4  @realDonaldTrump 2009-05-12 09:07:00   \n",
      "\n",
      "                                           Tweet URL  \\\n",
      "0  https://twitter.com/realDonaldTrump/status/169...   \n",
      "1  https://twitter.com/realDonaldTrump/status/170...   \n",
      "2  https://twitter.com/realDonaldTrump/status/173...   \n",
      "3  https://twitter.com/realDonaldTrump/status/174...   \n",
      "4  https://twitter.com/realDonaldTrump/status/177...   \n",
      "\n",
      "                                          Tweet Text  \n",
      "0  Be sure to tune in and watch Donald Trump on L...  \n",
      "1  Donald Trump will be appearing on The View tom...  \n",
      "2  Donald Trump reads Top Ten Financial Tips on L...  \n",
      "3  New Blog Post: Celebrity Apprentice Finale and...  \n",
      "4  'My persona will never be that of a wallflower...  \n"
     ]
    }
   ],
   "source": [
    "#Exibir as primeirras linhas para verificar a estrutura do arquivo \n",
    "print(df.head())"
   ]
  },
  {
   "cell_type": "code",
   "execution_count": 55,
   "id": "41824c9a-49f8-4a4a-bd30-1c9fb55929e3",
   "metadata": {},
   "outputs": [
    {
     "name": "stdout",
     "output_type": "stream",
     "text": [
      "Index(['ID', 'Time', 'Tweet URL', 'Tweet Text'], dtype='object')\n"
     ]
    }
   ],
   "source": [
    "# Verificar os nomes das colunas no DataFrame carregado\n",
    "print(df.columns)"
   ]
  },
  {
   "cell_type": "code",
   "execution_count": 60,
   "id": "216d7bac-a8b8-4d28-8b9c-30403d04f262",
   "metadata": {},
   "outputs": [],
   "source": [
    "# Aqui foi definido as datas do início e fim da campanha eleitoral de 2016\n",
    "start_date = pd.Timestamp('2015-06-16')\n",
    "end_date = pd.Timestamp('2016-11-08')"
   ]
  },
  {
   "cell_type": "code",
   "execution_count": 65,
   "id": "2a59cf0a-844f-43da-912c-bc7e5e36be7f",
   "metadata": {},
   "outputs": [],
   "source": [
    "# Filtrar os tweets até o final do dia 8 de novembro de 2016\n",
    "filtered_tweets = df[(df['Time'] >= start_date) & (df['Time'] <= pd.Timestamp('2016-11-09 00:00:00'))]"
   ]
  },
  {
   "cell_type": "code",
   "execution_count": 66,
   "id": "8f750cee-1fe2-4b77-8844-dbdbfd4b3aec",
   "metadata": {},
   "outputs": [
    {
     "name": "stdout",
     "output_type": "stream",
     "text": [
      "Número de tweets filtrados: 7619\n"
     ]
    }
   ],
   "source": [
    "# Verificar se há tweets filtrados\n",
    "num_filtered_tweets = len(filtered_tweets)\n",
    "print(f\"Número de tweets filtrados: {num_filtered_tweets}\")"
   ]
  },
  {
   "cell_type": "code",
   "execution_count": 67,
   "id": "ef5ab1f0-99b9-405d-85ba-a352dbb5b0ca",
   "metadata": {},
   "outputs": [
    {
     "name": "stdout",
     "output_type": "stream",
     "text": [
      "Tweets filtrados salvos em 'tweets_filtered.csv'.\n"
     ]
    }
   ],
   "source": [
    "if num_filtered_tweets > 0:\n",
    "        # Salvar os tweets filtrados em um novo arquivo CSV\n",
    "        filtered_tweets.to_csv('tweets_filtered.csv', index=False, encoding='utf-8-sig')\n",
    "        print(\"Tweets filtrados salvos em 'tweets_filtered.csv'.\")\n",
    "else:\n",
    "        print(\"Nenhum tweet encontrado no intervalo de datas especificado.\")"
   ]
  },
  {
   "cell_type": "code",
   "execution_count": null,
   "id": "cf0ef6d0-bcc4-489e-930b-a701b327c9a5",
   "metadata": {},
   "outputs": [],
   "source": [
    "######Para saber em que local o arquivo foi salvo use a seguinte função#######\n",
    "import os\n",
    "print(os.getcwd())"
   ]
  },
  {
   "cell_type": "code",
   "execution_count": null,
   "id": "f859ec8a-1a6c-4af2-9b54-58cb0a87bb16",
   "metadata": {},
   "outputs": [],
   "source": []
  }
 ],
 "metadata": {
  "kernelspec": {
   "display_name": "Python 3 (ipykernel)",
   "language": "python",
   "name": "python3"
  },
  "language_info": {
   "codemirror_mode": {
    "name": "ipython",
    "version": 3
   },
   "file_extension": ".py",
   "mimetype": "text/x-python",
   "name": "python",
   "nbconvert_exporter": "python",
   "pygments_lexer": "ipython3",
   "version": "3.11.7"
  }
 },
 "nbformat": 4,
 "nbformat_minor": 5
}
