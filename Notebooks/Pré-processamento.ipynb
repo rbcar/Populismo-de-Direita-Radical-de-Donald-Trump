{
 "cells": [
  {
   "cell_type": "code",
   "execution_count": 8,
   "id": "45ff52d6-7bdb-4f93-b468-6f3af77b3a35",
   "metadata": {},
   "outputs": [],
   "source": [
    "import pandas as pd\n",
    "import re"
   ]
  },
  {
   "cell_type": "code",
   "execution_count": 9,
   "id": "9122227e-2ac7-4209-8649-7b3109727c81",
   "metadata": {},
   "outputs": [],
   "source": [
    "# Caminho para o arquivo CSV original\n",
    "file_path = r\"C:\\Users\\rebec\\OneDrive\\Documentos\\tweets_filtered.csv\"\n",
    "# Caminho para o novo CSV pré-processado\n",
    "cleaned_file_path = r\"C:\\Users\\rebec\\OneDrive\\Documentos\\tweets_cleaned.csv\""
   ]
  },
  {
   "cell_type": "code",
   "execution_count": 10,
   "id": "117549e2-f038-4bb3-8813-6274cc74a7c1",
   "metadata": {},
   "outputs": [],
   "source": [
    "# Leitura do arquivo CSV original\n",
    "try:\n",
    "    tweets_df = pd.read_csv(file_path)\n",
    "except FileNotFoundError:\n",
    "    print(f\"Erro: Arquivo '{file_path}' não encontrado.\")\n",
    "    exit()"
   ]
  },
  {
   "cell_type": "code",
   "execution_count": 11,
   "id": "19ce49ce-580d-46b9-86a9-83aed1d57a37",
   "metadata": {},
   "outputs": [],
   "source": [
    "# Função de pré-processamento do texto\n",
    "def preprocess_text(text):\n",
    "    text = re.sub(r'http\\S+', '', text)  # Remove URLs\n",
    "    text = re.sub(r'@\\w+', '', text)  # Remove menções\n",
    "    text = re.sub(r'[^A-Za-z\\s]', '', text)  # Remove caracteres especiais\n",
    "    text = text.lower()  # Converte para minúsculas\n",
    "    return text"
   ]
  },
  {
   "cell_type": "code",
   "execution_count": 12,
   "id": "cd2caa4d-df29-4207-abb1-60ecf093481a",
   "metadata": {},
   "outputs": [],
   "source": [
    "# Aplicação do pré-processamento ao texto dos tweets\n",
    "tweets_df['Cleaned Text'] = tweets_df['Tweet Text'].astype(str).apply(preprocess_text)"
   ]
  },
  {
   "cell_type": "code",
   "execution_count": 13,
   "id": "4b12c275-c1d4-438b-a30c-8660252729a7",
   "metadata": {},
   "outputs": [],
   "source": [
    "# Salvando o DataFrame com o texto pré-processado em um novo arquivo CSV\n",
    "tweets_df.to_csv(cleaned_file_path, index=False)"
   ]
  },
  {
   "cell_type": "code",
   "execution_count": 14,
   "id": "36274d97-e65a-401d-829b-dfb1b614bb41",
   "metadata": {},
   "outputs": [
    {
     "name": "stdout",
     "output_type": "stream",
     "text": [
      "DataFrame com texto pré-processado salvo em 'C:\\Users\\rebec\\OneDrive\\Documentos\\tweets_cleaned.csv'.\n"
     ]
    }
   ],
   "source": [
    "# Confirmação de que o arquivo foi salvo\n",
    "print(f\"DataFrame com texto pré-processado salvo em '{cleaned_file_path}'.\")"
   ]
  },
  {
   "cell_type": "code",
   "execution_count": null,
   "id": "58997c42-dba7-4658-8b0e-a875db94798d",
   "metadata": {},
   "outputs": [],
   "source": []
  },
  {
   "cell_type": "code",
   "execution_count": null,
   "id": "10c1b019-4478-464b-8ff5-091964277245",
   "metadata": {},
   "outputs": [],
   "source": []
  }
 ],
 "metadata": {
  "kernelspec": {
   "display_name": "Python 3 (ipykernel)",
   "language": "python",
   "name": "python3"
  },
  "language_info": {
   "codemirror_mode": {
    "name": "ipython",
    "version": 3
   },
   "file_extension": ".py",
   "mimetype": "text/x-python",
   "name": "python",
   "nbconvert_exporter": "python",
   "pygments_lexer": "ipython3",
   "version": "3.11.7"
  }
 },
 "nbformat": 4,
 "nbformat_minor": 5
}
